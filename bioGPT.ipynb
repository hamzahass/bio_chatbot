{
 "cells": [
  {
   "cell_type": "code",
   "execution_count": 2,
   "id": "initial_id",
   "metadata": {
    "collapsed": true,
    "ExecuteTime": {
     "end_time": "2023-12-11T21:16:22.787546Z",
     "start_time": "2023-12-11T21:16:19.215991Z"
    }
   },
   "outputs": [],
   "source": [
    "import pandas as pd\n",
    "from transformers import AutoTokenizer, AutoModelForCausalLM, Trainer, TrainingArguments\n",
    "import torch\n",
    "from sklearn.model_selection import train_test_split\n",
    "from torch.utils.data import Dataset\n",
    "from tqdm import tqdm\n",
    "from torch.utils.data import DataLoader\n",
    "tqdm.pandas()"
   ]
  },
  {
   "cell_type": "markdown",
   "source": [
    "**Data Preprocessing**"
   ],
   "metadata": {
    "collapsed": false
   },
   "id": "5fe1afee6edd054a"
  },
  {
   "cell_type": "code",
   "execution_count": 3,
   "outputs": [],
   "source": [
    "medical_data = pd.read_json(\"datasets/final.json\")"
   ],
   "metadata": {
    "collapsed": false,
    "ExecuteTime": {
     "end_time": "2023-12-11T21:16:24.713949Z",
     "start_time": "2023-12-11T21:16:23.701108Z"
    }
   },
   "id": "5eb8baccb2843fd1"
  },
  {
   "cell_type": "code",
   "execution_count": 4,
   "outputs": [
    {
     "data": {
      "text/plain": "                                                 question  \\\n0       My wife Misscarried after 8 week and doctor as...   \n1       What information can be obtained regarding Acy...   \n2       Are low plasma adiponectin levels associated w...   \n3       Does helicobacter pylori infection reduce syst...   \n4       Does g-protein-coupled bile acid receptor play...   \n...                                                   ...   \n473971  helo sir, my 2 year old daughter have constant...   \n473972      I had an MRI scan of my brain last night at 6   \n473973  Does vitamin D Status be Related to Oxidative ...   \n473974  Do serum interleukin 8 and 12 levels predict s...   \n473975  Do comparison of breast implant deflation for ...   \n\n                                                   answer  \n0       helloyour semen analysis suggests low sperm co...  \n1       Before taking acyclovir:\\ntell your doctor and...  \n2       These results demonstrate for the first time a...  \n3       H. pylori substantially impairs the bio-availa...  \n4       This study suggests that TGR5 may play a role ...  \n...                                                   ...  \n473971  hello fatima, welcome to chatbot forum. your h...  \n473972  hi, thank you for posting your query. we need ...  \n473973  Our findings show lower levels of TAC and 25(O...  \n473974  Serum IL-8 and -12 levels were markedly elevat...  \n473975  The authors found a statistically significant ...  \n\n[473976 rows x 2 columns]",
      "text/html": "<div>\n<style scoped>\n    .dataframe tbody tr th:only-of-type {\n        vertical-align: middle;\n    }\n\n    .dataframe tbody tr th {\n        vertical-align: top;\n    }\n\n    .dataframe thead th {\n        text-align: right;\n    }\n</style>\n<table border=\"1\" class=\"dataframe\">\n  <thead>\n    <tr style=\"text-align: right;\">\n      <th></th>\n      <th>question</th>\n      <th>answer</th>\n    </tr>\n  </thead>\n  <tbody>\n    <tr>\n      <th>0</th>\n      <td>My wife Misscarried after 8 week and doctor as...</td>\n      <td>helloyour semen analysis suggests low sperm co...</td>\n    </tr>\n    <tr>\n      <th>1</th>\n      <td>What information can be obtained regarding Acy...</td>\n      <td>Before taking acyclovir:\\ntell your doctor and...</td>\n    </tr>\n    <tr>\n      <th>2</th>\n      <td>Are low plasma adiponectin levels associated w...</td>\n      <td>These results demonstrate for the first time a...</td>\n    </tr>\n    <tr>\n      <th>3</th>\n      <td>Does helicobacter pylori infection reduce syst...</td>\n      <td>H. pylori substantially impairs the bio-availa...</td>\n    </tr>\n    <tr>\n      <th>4</th>\n      <td>Does g-protein-coupled bile acid receptor play...</td>\n      <td>This study suggests that TGR5 may play a role ...</td>\n    </tr>\n    <tr>\n      <th>...</th>\n      <td>...</td>\n      <td>...</td>\n    </tr>\n    <tr>\n      <th>473971</th>\n      <td>helo sir, my 2 year old daughter have constant...</td>\n      <td>hello fatima, welcome to chatbot forum. your h...</td>\n    </tr>\n    <tr>\n      <th>473972</th>\n      <td>I had an MRI scan of my brain last night at 6</td>\n      <td>hi, thank you for posting your query. we need ...</td>\n    </tr>\n    <tr>\n      <th>473973</th>\n      <td>Does vitamin D Status be Related to Oxidative ...</td>\n      <td>Our findings show lower levels of TAC and 25(O...</td>\n    </tr>\n    <tr>\n      <th>473974</th>\n      <td>Do serum interleukin 8 and 12 levels predict s...</td>\n      <td>Serum IL-8 and -12 levels were markedly elevat...</td>\n    </tr>\n    <tr>\n      <th>473975</th>\n      <td>Do comparison of breast implant deflation for ...</td>\n      <td>The authors found a statistically significant ...</td>\n    </tr>\n  </tbody>\n</table>\n<p>473976 rows × 2 columns</p>\n</div>"
     },
     "metadata": {},
     "output_type": "display_data"
    }
   ],
   "source": [
    "display(medical_data)"
   ],
   "metadata": {
    "collapsed": false,
    "ExecuteTime": {
     "end_time": "2023-12-11T21:16:24.720040Z",
     "start_time": "2023-12-11T21:16:24.715797Z"
    }
   },
   "id": "7f5aa746a3d2083c"
  },
  {
   "cell_type": "code",
   "execution_count": 5,
   "outputs": [],
   "source": [
    "medical_data['combined'] = \"Question : \" + medical_data['question'] + \" Answer : \" + medical_data['answer']"
   ],
   "metadata": {
    "collapsed": false,
    "ExecuteTime": {
     "end_time": "2023-12-11T21:16:25.442Z",
     "start_time": "2023-12-11T21:16:25.276760Z"
    }
   },
   "id": "3be0bdd20bbe8d79"
  },
  {
   "cell_type": "markdown",
   "source": [
    "**Initialization of the model and tokenizer**"
   ],
   "metadata": {
    "collapsed": false
   },
   "id": "541d1bce37d4e584"
  },
  {
   "cell_type": "code",
   "execution_count": 6,
   "outputs": [],
   "source": [
    "tokenizer = AutoTokenizer.from_pretrained(\"microsoft/biogpt\")\n",
    "model = AutoModelForCausalLM.from_pretrained(\"microsoft/biogpt\")"
   ],
   "metadata": {
    "collapsed": false,
    "ExecuteTime": {
     "end_time": "2023-12-11T21:16:30.011564Z",
     "start_time": "2023-12-11T21:16:26.308389Z"
    }
   },
   "id": "285e97eb341a025"
  },
  {
   "cell_type": "code",
   "execution_count": 7,
   "outputs": [],
   "source": [
    "# Function to count words in a text\n",
    "def word_count(text):\n",
    "    return len(text.split(' '))\n",
    "\n",
    "# Create a new column for word count\n",
    "medical_data['word_count'] = medical_data['combined'].apply(word_count)\n"
   ],
   "metadata": {
    "collapsed": false,
    "ExecuteTime": {
     "end_time": "2023-12-11T21:16:32.101376Z",
     "start_time": "2023-12-11T21:16:30.696909Z"
    }
   },
   "id": "4437a5d123dd2570"
  },
  {
   "cell_type": "code",
   "execution_count": 8,
   "outputs": [
    {
     "data": {
      "text/plain": "473976"
     },
     "execution_count": 8,
     "metadata": {},
     "output_type": "execute_result"
    }
   ],
   "source": [
    "len(medical_data)"
   ],
   "metadata": {
    "collapsed": false,
    "ExecuteTime": {
     "end_time": "2023-12-11T21:16:32.105258Z",
     "start_time": "2023-12-11T21:16:32.102147Z"
    }
   },
   "id": "a45e5c58f2dbe996"
  },
  {
   "cell_type": "markdown",
   "source": [
    "**Keep samples with length < 1020**"
   ],
   "metadata": {
    "collapsed": false
   },
   "id": "1781835a168bf0ee"
  },
  {
   "cell_type": "code",
   "execution_count": 9,
   "outputs": [],
   "source": [
    "medical_data = medical_data[medical_data['word_count'] < 1020]"
   ],
   "metadata": {
    "collapsed": false,
    "ExecuteTime": {
     "end_time": "2023-12-11T21:16:33.997525Z",
     "start_time": "2023-12-11T21:16:33.858516Z"
    }
   },
   "id": "24b685477383f817"
  },
  {
   "cell_type": "markdown",
   "source": [
    "**Splitting the dataframe into training and validation and test**"
   ],
   "metadata": {
    "collapsed": false
   },
   "id": "37b0935c96ba46d5"
  },
  {
   "cell_type": "code",
   "execution_count": 10,
   "outputs": [],
   "source": [
    "# Split the dataset\n",
    "train_med, test_med = train_test_split(medical_data, test_size=0.2)\n",
    "val_med, test_med = train_test_split(test_med, test_size=0.5)"
   ],
   "metadata": {
    "collapsed": false,
    "ExecuteTime": {
     "end_time": "2023-12-11T21:16:35.445244Z",
     "start_time": "2023-12-11T21:16:35.398163Z"
    }
   },
   "id": "fd282c73d0a1e5ec"
  },
  {
   "cell_type": "code",
   "execution_count": 11,
   "outputs": [],
   "source": [
    "def tokenize_dataset(dataset):\n",
    "    tokenized_texts = []\n",
    "    for text in tqdm(dataset['combined'].tolist()[:1000], desc=\"Tokenizing\"):\n",
    "        text = text.lower()\n",
    "        tokenized_texts.append(tokenizer(text, truncation=True, padding='max_length', max_length=1024, return_tensors='pt'))\n",
    "    return tokenized_texts"
   ],
   "metadata": {
    "collapsed": false,
    "ExecuteTime": {
     "end_time": "2023-12-11T21:16:41.508049Z",
     "start_time": "2023-12-11T21:16:41.501135Z"
    }
   },
   "id": "d9ea4664eaf4f41d"
  },
  {
   "cell_type": "code",
   "execution_count": 12,
   "outputs": [
    {
     "name": "stderr",
     "output_type": "stream",
     "text": [
      "Tokenizing: 100%|██████████| 1000/1000 [00:01<00:00, 989.16it/s]\n",
      "Tokenizing: 100%|██████████| 1000/1000 [00:00<00:00, 1135.44it/s]\n"
     ]
    }
   ],
   "source": [
    "tokenized_val = tokenize_dataset(val_med)\n",
    "tokenized_test = tokenize_dataset(test_med)"
   ],
   "metadata": {
    "collapsed": false,
    "ExecuteTime": {
     "end_time": "2023-12-11T21:16:44.152704Z",
     "start_time": "2023-12-11T21:16:42.180282Z"
    }
   },
   "id": "65d8fb285031c74e"
  },
  {
   "cell_type": "code",
   "execution_count": 30,
   "outputs": [],
   "source": [
    "class BioGPTDataset(Dataset):\n",
    "    def __init__(self, encodings, tokenizer):\n",
    "        self.encodings = encodings\n",
    "        self.pad_token_id = tokenizer.pad_token_id\n",
    "\n",
    "    def __getitem__(self, idx):\n",
    "        # Retrieves the input_ids and attention_mask for the given index\n",
    "        item = {key: torch.squeeze(val) for key, val in self.encodings[idx].items()}\n",
    "        item['labels'] = torch.cat([item['input_ids'][1:], torch.tensor([self.pad_token_id])])\n",
    "        return item\n",
    "\n",
    "    def __len__(self):\n",
    "        # Returns the length of the input_ids\n",
    "        return len(self.encodings)\n",
    "\n",
    "def collate_fn(batch):\n",
    "    input_ids = torch.stack([item[\"input_ids\"] for item in batch])\n",
    "    attention_mask = torch.stack([item[\"attention_mask\"] for item in batch])\n",
    "    labels = torch.stack([item[\"labels\"] for item in batch])\n",
    "    return {\n",
    "        \"input_ids\": input_ids, \n",
    "        \"attention_mask\": attention_mask, \n",
    "        \"labels\": labels\n",
    "    }"
   ],
   "metadata": {
    "collapsed": false,
    "ExecuteTime": {
     "end_time": "2023-12-11T21:37:14.626516Z",
     "start_time": "2023-12-11T21:37:14.624460Z"
    }
   },
   "id": "6c845f9ffdd7bba2"
  },
  {
   "cell_type": "code",
   "execution_count": 28,
   "outputs": [],
   "source": [
    "val_dataset = BioGPTDataset(tokenized_val, tokenizer)\n",
    "test_dataset = BioGPTDataset(tokenized_test, tokenizer)"
   ],
   "metadata": {
    "collapsed": false,
    "ExecuteTime": {
     "end_time": "2023-12-11T21:23:50.196988Z",
     "start_time": "2023-12-11T21:23:50.189694Z"
    }
   },
   "id": "8614ba0d5c38686a"
  },
  {
   "cell_type": "code",
   "execution_count": 173,
   "outputs": [],
   "source": [
    "# Define Training Arguments\n",
    "training_args = TrainingArguments(\n",
    "    output_dir='./results',          # Output directory for model checkpoints\n",
    "    num_train_epochs=3,              # Number of training epochs\n",
    "    per_device_train_batch_size=16,  # Batch size per device during training\n",
    "    per_device_eval_batch_size=16,   # Batch size for evaluation\n",
    "    warmup_steps=500,                # Number of warmup steps for learning rate scheduler\n",
    "    weight_decay=0.01,               # Weight decay if we apply some\n",
    "    logging_dir='./logs',            # Directory for storing logs\n",
    "    logging_steps=10,                # Log every X updates steps\n",
    "    evaluation_strategy=\"steps\",     # Evaluation is done (and logged) every X steps\n",
    "    save_steps=10,                   # Model is saved every X steps\n",
    "    load_best_model_at_end=True      # Load the best model at the end of training\n",
    ")\n",
    "\n",
    "# Initialize the Trainer\n",
    "trainer = Trainer(\n",
    "    model=model,\n",
    "    args=training_args,\n",
    "    train_dataset=val_dataset,       # Training dataset\n",
    "    eval_dataset=test_dataset,       # Evaluation dataset\n",
    ")"
   ],
   "metadata": {
    "collapsed": false,
    "ExecuteTime": {
     "end_time": "2023-12-11T20:51:22.070810Z",
     "start_time": "2023-12-11T20:51:21.998022Z"
    }
   },
   "id": "d96c891dc06edae9"
  },
  {
   "cell_type": "code",
   "execution_count": null,
   "outputs": [],
   "source": [
    "trainer.train()"
   ],
   "metadata": {
    "collapsed": false,
    "ExecuteTime": {
     "start_time": "2023-12-11T20:52:18.590043Z"
    }
   },
   "id": "3fca4d8638330544"
  }
 ],
 "metadata": {
  "kernelspec": {
   "display_name": "Python 3",
   "language": "python",
   "name": "python3"
  },
  "language_info": {
   "codemirror_mode": {
    "name": "ipython",
    "version": 2
   },
   "file_extension": ".py",
   "mimetype": "text/x-python",
   "name": "python",
   "nbconvert_exporter": "python",
   "pygments_lexer": "ipython2",
   "version": "2.7.6"
  }
 },
 "nbformat": 4,
 "nbformat_minor": 5
}
