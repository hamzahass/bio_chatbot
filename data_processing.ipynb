{
 "cells": [
  {
   "cell_type": "code",
   "execution_count": 2,
   "id": "initial_id",
   "metadata": {
    "collapsed": true,
    "ExecuteTime": {
     "end_time": "2023-12-11T17:44:57.030363Z",
     "start_time": "2023-12-11T17:44:57.029319Z"
    }
   },
   "outputs": [],
   "source": [
    "import pandas as pd"
   ]
  },
  {
   "cell_type": "markdown",
   "source": [
    "#### Medical Meadow"
   ],
   "metadata": {
    "collapsed": false
   },
   "id": "a4c3c33d29dac485"
  },
  {
   "cell_type": "code",
   "execution_count": 16,
   "outputs": [],
   "source": [
    "medical_meadow = pd.read_json(\"datasets/medical_meadow_wikidoc.json\")"
   ],
   "metadata": {
    "collapsed": false,
    "ExecuteTime": {
     "end_time": "2023-12-11T17:48:51.292886Z",
     "start_time": "2023-12-11T17:48:51.259038Z"
    }
   },
   "id": "1a9c225f90c59f94"
  },
  {
   "cell_type": "code",
   "execution_count": 17,
   "outputs": [
    {
     "data": {
      "text/plain": "Index(['instruction', 'input', 'output'], dtype='object')"
     },
     "execution_count": 17,
     "metadata": {},
     "output_type": "execute_result"
    }
   ],
   "source": [
    "medical_meadow.columns"
   ],
   "metadata": {
    "collapsed": false,
    "ExecuteTime": {
     "end_time": "2023-12-11T17:48:51.856324Z",
     "start_time": "2023-12-11T17:48:51.854375Z"
    }
   },
   "id": "98c608d8a5be2236"
  },
  {
   "cell_type": "code",
   "execution_count": 18,
   "outputs": [],
   "source": [
    "medical_meadow.drop(columns=['instruction'], inplace=True)\n",
    "medical_meadow.rename(columns={\n",
    "    'input': 'question',\n",
    "    'output': 'answer'\n",
    "}, inplace=True)"
   ],
   "metadata": {
    "collapsed": false,
    "ExecuteTime": {
     "end_time": "2023-12-11T17:48:55.632509Z",
     "start_time": "2023-12-11T17:48:55.629322Z"
    }
   },
   "id": "30c87e72fd96729e"
  },
  {
   "cell_type": "code",
   "execution_count": 19,
   "outputs": [
    {
     "data": {
      "text/plain": "                                               question  \\\n0     Can you provide an overview of the lung's squa...   \n1                         What does \"Clear: cell\" mean?   \n2     Can you provide me with information regarding ...   \n3     What are the historical background and symptom...   \n4     What does the \"Hypotension: Resident Survival ...   \n...                                                 ...   \n9995  What are some biochemistry topics that can be ...   \n9996  What information is available on esophageal st...   \n9997  What is the main way to prevent basal cell car...   \n9998  Could you provide me with the text you want me...   \n9999  What is the medical treatment for De Quervain'...   \n\n                                                 answer  \n0     Squamous cell carcinoma of the lung may be cla...  \n1     Clear cell tumors are part of the surface epit...  \n2     Two Japanese scientists commenced research int...  \n3     Symptoms of vulvovaginitis caused by Candida s...  \n4     Hypotension is the term for low blood pressure...  \n...                                                 ...  \n9995                                            Water -  \n9996  Esophageal stricture is a narrowing of the eso...  \n9997  The development of basal cell carcinoma can be...  \n9998  No medical treatment is currently known or pra...  \n9999  The mainstay of therapy for de Quervain's thyr...  \n\n[10000 rows x 2 columns]",
      "text/html": "<div>\n<style scoped>\n    .dataframe tbody tr th:only-of-type {\n        vertical-align: middle;\n    }\n\n    .dataframe tbody tr th {\n        vertical-align: top;\n    }\n\n    .dataframe thead th {\n        text-align: right;\n    }\n</style>\n<table border=\"1\" class=\"dataframe\">\n  <thead>\n    <tr style=\"text-align: right;\">\n      <th></th>\n      <th>question</th>\n      <th>answer</th>\n    </tr>\n  </thead>\n  <tbody>\n    <tr>\n      <th>0</th>\n      <td>Can you provide an overview of the lung's squa...</td>\n      <td>Squamous cell carcinoma of the lung may be cla...</td>\n    </tr>\n    <tr>\n      <th>1</th>\n      <td>What does \"Clear: cell\" mean?</td>\n      <td>Clear cell tumors are part of the surface epit...</td>\n    </tr>\n    <tr>\n      <th>2</th>\n      <td>Can you provide me with information regarding ...</td>\n      <td>Two Japanese scientists commenced research int...</td>\n    </tr>\n    <tr>\n      <th>3</th>\n      <td>What are the historical background and symptom...</td>\n      <td>Symptoms of vulvovaginitis caused by Candida s...</td>\n    </tr>\n    <tr>\n      <th>4</th>\n      <td>What does the \"Hypotension: Resident Survival ...</td>\n      <td>Hypotension is the term for low blood pressure...</td>\n    </tr>\n    <tr>\n      <th>...</th>\n      <td>...</td>\n      <td>...</td>\n    </tr>\n    <tr>\n      <th>9995</th>\n      <td>What are some biochemistry topics that can be ...</td>\n      <td>Water -</td>\n    </tr>\n    <tr>\n      <th>9996</th>\n      <td>What information is available on esophageal st...</td>\n      <td>Esophageal stricture is a narrowing of the eso...</td>\n    </tr>\n    <tr>\n      <th>9997</th>\n      <td>What is the main way to prevent basal cell car...</td>\n      <td>The development of basal cell carcinoma can be...</td>\n    </tr>\n    <tr>\n      <th>9998</th>\n      <td>Could you provide me with the text you want me...</td>\n      <td>No medical treatment is currently known or pra...</td>\n    </tr>\n    <tr>\n      <th>9999</th>\n      <td>What is the medical treatment for De Quervain'...</td>\n      <td>The mainstay of therapy for de Quervain's thyr...</td>\n    </tr>\n  </tbody>\n</table>\n<p>10000 rows × 2 columns</p>\n</div>"
     },
     "metadata": {},
     "output_type": "display_data"
    }
   ],
   "source": [
    "display(medical_meadow)"
   ],
   "metadata": {
    "collapsed": false,
    "ExecuteTime": {
     "end_time": "2023-12-11T17:49:02.255591Z",
     "start_time": "2023-12-11T17:49:02.253201Z"
    }
   },
   "id": "dd0118383fb98207"
  },
  {
   "cell_type": "markdown",
   "source": [
    "### Biomedical cpgQa"
   ],
   "metadata": {
    "collapsed": false
   },
   "id": "ae71d745972fd930"
  },
  {
   "cell_type": "code",
   "execution_count": 23,
   "outputs": [],
   "source": [
    "cpgqa = pd.read_csv(\"datasets/cpgQA-v1.0.csv\")"
   ],
   "metadata": {
    "collapsed": false,
    "ExecuteTime": {
     "end_time": "2023-12-11T17:52:17.855751Z",
     "start_time": "2023-12-11T17:52:17.840544Z"
    }
   },
   "id": "2ea782e35f442459"
  },
  {
   "cell_type": "code",
   "execution_count": 24,
   "outputs": [
    {
     "data": {
      "text/plain": "Index(['TITLE', 'CONTEXT', 'QUESTION', 'ANSWER'], dtype='object')"
     },
     "execution_count": 24,
     "metadata": {},
     "output_type": "execute_result"
    }
   ],
   "source": [
    "cpgqa.columns"
   ],
   "metadata": {
    "collapsed": false,
    "ExecuteTime": {
     "end_time": "2023-12-11T17:52:18.578918Z",
     "start_time": "2023-12-11T17:52:18.575117Z"
    }
   },
   "id": "26e29bb4ae01fcba"
  },
  {
   "cell_type": "code",
   "execution_count": 25,
   "outputs": [],
   "source": [
    "cpgqa.drop(columns=['TITLE', 'CONTEXT'], inplace=True)\n",
    "cpgqa.rename(columns={\n",
    "    'QUESTION': 'question',\n",
    "    'ANSWER': 'answer'\n",
    "}, inplace=True)"
   ],
   "metadata": {
    "collapsed": false,
    "ExecuteTime": {
     "end_time": "2023-12-11T17:52:19.631106Z",
     "start_time": "2023-12-11T17:52:19.627318Z"
    }
   },
   "id": "15862437b574737"
  },
  {
   "cell_type": "code",
   "execution_count": 26,
   "outputs": [
    {
     "data": {
      "text/plain": "                                               question  \\\n0     What is the purpose of Opioid Taper Decision T...   \n1     What should be done before starting opioid the...   \n2     What should be done if an opioid thrapy is dis...   \n3                      When to continue opioid therapy?   \n4        What to discuss before starting the treatment?   \n...                                                 ...   \n1092  What does the patient-centered assessment inco...   \n1093  What can facilitate clinical risk assessment a...   \n1094  Which electronic tools are currently used in t...   \n1095                             What does the OTRR do?   \n1096                       What does the STORM tool do?   \n\n                                                 answer  \n0     assist Primary Care providers in determining i...  \n1                             Establish treatment goals  \n2                                                  plan  \n3     if there is clinically meaningful improvement ...  \n4     risks, benefits and responsibilities for manag...  \n...                                                 ...  \n1092  a patient-centered interview, and exploration ...  \n1093                         There are electronic tools  \n1094  the Opioid Therapy Risk Report (OTRR) and the ...  \n1095  allows VA providers to review clinical data re...  \n1096  incorporates co-occurring medical and mental h...  \n\n[1097 rows x 2 columns]",
      "text/html": "<div>\n<style scoped>\n    .dataframe tbody tr th:only-of-type {\n        vertical-align: middle;\n    }\n\n    .dataframe tbody tr th {\n        vertical-align: top;\n    }\n\n    .dataframe thead th {\n        text-align: right;\n    }\n</style>\n<table border=\"1\" class=\"dataframe\">\n  <thead>\n    <tr style=\"text-align: right;\">\n      <th></th>\n      <th>question</th>\n      <th>answer</th>\n    </tr>\n  </thead>\n  <tbody>\n    <tr>\n      <th>0</th>\n      <td>What is the purpose of Opioid Taper Decision T...</td>\n      <td>assist Primary Care providers in determining i...</td>\n    </tr>\n    <tr>\n      <th>1</th>\n      <td>What should be done before starting opioid the...</td>\n      <td>Establish treatment goals</td>\n    </tr>\n    <tr>\n      <th>2</th>\n      <td>What should be done if an opioid thrapy is dis...</td>\n      <td>plan</td>\n    </tr>\n    <tr>\n      <th>3</th>\n      <td>When to continue opioid therapy?</td>\n      <td>if there is clinically meaningful improvement ...</td>\n    </tr>\n    <tr>\n      <th>4</th>\n      <td>What to discuss before starting the treatment?</td>\n      <td>risks, benefits and responsibilities for manag...</td>\n    </tr>\n    <tr>\n      <th>...</th>\n      <td>...</td>\n      <td>...</td>\n    </tr>\n    <tr>\n      <th>1092</th>\n      <td>What does the patient-centered assessment inco...</td>\n      <td>a patient-centered interview, and exploration ...</td>\n    </tr>\n    <tr>\n      <th>1093</th>\n      <td>What can facilitate clinical risk assessment a...</td>\n      <td>There are electronic tools</td>\n    </tr>\n    <tr>\n      <th>1094</th>\n      <td>Which electronic tools are currently used in t...</td>\n      <td>the Opioid Therapy Risk Report (OTRR) and the ...</td>\n    </tr>\n    <tr>\n      <th>1095</th>\n      <td>What does the OTRR do?</td>\n      <td>allows VA providers to review clinical data re...</td>\n    </tr>\n    <tr>\n      <th>1096</th>\n      <td>What does the STORM tool do?</td>\n      <td>incorporates co-occurring medical and mental h...</td>\n    </tr>\n  </tbody>\n</table>\n<p>1097 rows × 2 columns</p>\n</div>"
     },
     "metadata": {},
     "output_type": "display_data"
    }
   ],
   "source": [
    "display(cpgqa)"
   ],
   "metadata": {
    "collapsed": false,
    "ExecuteTime": {
     "end_time": "2023-12-11T17:52:27.504512Z",
     "start_time": "2023-12-11T17:52:27.494343Z"
    }
   },
   "id": "9f5554d8b964764a"
  },
  {
   "cell_type": "markdown",
   "source": [
    "### Covid QA"
   ],
   "metadata": {
    "collapsed": false
   },
   "id": "5f848b54d621b2ab"
  },
  {
   "cell_type": "code",
   "execution_count": 27,
   "outputs": [],
   "source": [
    "covid_train = pd.read_parquet(\"datasets/train.parquet\")\n",
    "covid_test = pd.read_parquet(\"datasets/test.parquet\")"
   ],
   "metadata": {
    "collapsed": false,
    "ExecuteTime": {
     "end_time": "2023-12-11T17:53:58.799134Z",
     "start_time": "2023-12-11T17:53:58.531111Z"
    }
   },
   "id": "f7fb69d4a33d24e0"
  },
  {
   "cell_type": "code",
   "execution_count": 30,
   "outputs": [
    {
     "data": {
      "text/plain": "Index(['document_id', 'context', 'question', 'id', 'answer', 'answer_start'], dtype='object')"
     },
     "execution_count": 30,
     "metadata": {},
     "output_type": "execute_result"
    }
   ],
   "source": [
    "covid_train.columns"
   ],
   "metadata": {
    "collapsed": false,
    "ExecuteTime": {
     "end_time": "2023-12-11T17:54:41.427812Z",
     "start_time": "2023-12-11T17:54:41.421077Z"
    }
   },
   "id": "ac71928e55b5c4b1"
  },
  {
   "cell_type": "code",
   "execution_count": 31,
   "outputs": [],
   "source": [
    "covid_train.drop(columns=['document_id', 'context', 'id', 'answer_start'], inplace=True)\n",
    "covid_test.drop(columns=['document_id', 'context', 'id', 'answer_start'], inplace=True)"
   ],
   "metadata": {
    "collapsed": false,
    "ExecuteTime": {
     "end_time": "2023-12-11T17:55:37.267039Z",
     "start_time": "2023-12-11T17:55:37.256160Z"
    }
   },
   "id": "da3b6f9cbd203ba9"
  },
  {
   "cell_type": "code",
   "execution_count": 32,
   "outputs": [
    {
     "data": {
      "text/plain": "2019"
     },
     "execution_count": 32,
     "metadata": {},
     "output_type": "execute_result"
    }
   ],
   "source": [
    "len(covid_train) + len(covid_test)"
   ],
   "metadata": {
    "collapsed": false,
    "ExecuteTime": {
     "end_time": "2023-12-11T17:56:56.997961Z",
     "start_time": "2023-12-11T17:56:56.993276Z"
    }
   },
   "id": "d10f98abe07732c"
  },
  {
   "cell_type": "code",
   "execution_count": 33,
   "outputs": [],
   "source": [
    "covid = pd.concat([covid_train, covid_test], ignore_index=True)"
   ],
   "metadata": {
    "collapsed": false,
    "ExecuteTime": {
     "end_time": "2023-12-11T17:57:21.476169Z",
     "start_time": "2023-12-11T17:57:21.469793Z"
    }
   },
   "id": "7d1a70bce6c60f38"
  },
  {
   "cell_type": "code",
   "execution_count": 35,
   "outputs": [
    {
     "data": {
      "text/plain": "                                               question  \\\n0     What is the main cause of HIV-1 infection in c...   \n1     What plays the crucial role in the Mother to C...   \n2     How many children were infected by HIV-1 in 20...   \n3     What is the role of C-C Motif Chemokine Ligand...   \n4           What is DC-GENR and where is  it expressed?   \n...                                                 ...   \n2014  What does the orf8 derived from 2019-nCOV belo...   \n2015  What is the  relation between the new2019-nCOV...   \n2016                        orf8 was shown to do  what?   \n2017   What high possibility does the novel  orf8 have?   \n2018                What is the summary of this report?   \n\n                                                 answer  \n0     Mother-to-child transmission (MTCT) is the mai...  \n1     DC-SIGNR plays a crucial role in MTCT of HIV-1...  \n2     more than 400,000 children were infected world...  \n3     High copy numbers of CCL3L1, a potent HIV-1 su...  \n4     Dendritic cell-specific ICAM-grabbing non-inte...  \n...                                                 ...  \n2014  the group that includes the closest genome seq...  \n2015  the new 2019-nCoV orf8 is distant from the con...  \n2016  to trigger intracellular stress pathways and a...  \n2017  to form a protein with an alpha-helix, followi...  \n2018  2019-nCoV is a novel lineage B Betacoronavirus...  \n\n[2019 rows x 2 columns]",
      "text/html": "<div>\n<style scoped>\n    .dataframe tbody tr th:only-of-type {\n        vertical-align: middle;\n    }\n\n    .dataframe tbody tr th {\n        vertical-align: top;\n    }\n\n    .dataframe thead th {\n        text-align: right;\n    }\n</style>\n<table border=\"1\" class=\"dataframe\">\n  <thead>\n    <tr style=\"text-align: right;\">\n      <th></th>\n      <th>question</th>\n      <th>answer</th>\n    </tr>\n  </thead>\n  <tbody>\n    <tr>\n      <th>0</th>\n      <td>What is the main cause of HIV-1 infection in c...</td>\n      <td>Mother-to-child transmission (MTCT) is the mai...</td>\n    </tr>\n    <tr>\n      <th>1</th>\n      <td>What plays the crucial role in the Mother to C...</td>\n      <td>DC-SIGNR plays a crucial role in MTCT of HIV-1...</td>\n    </tr>\n    <tr>\n      <th>2</th>\n      <td>How many children were infected by HIV-1 in 20...</td>\n      <td>more than 400,000 children were infected world...</td>\n    </tr>\n    <tr>\n      <th>3</th>\n      <td>What is the role of C-C Motif Chemokine Ligand...</td>\n      <td>High copy numbers of CCL3L1, a potent HIV-1 su...</td>\n    </tr>\n    <tr>\n      <th>4</th>\n      <td>What is DC-GENR and where is  it expressed?</td>\n      <td>Dendritic cell-specific ICAM-grabbing non-inte...</td>\n    </tr>\n    <tr>\n      <th>...</th>\n      <td>...</td>\n      <td>...</td>\n    </tr>\n    <tr>\n      <th>2014</th>\n      <td>What does the orf8 derived from 2019-nCOV belo...</td>\n      <td>the group that includes the closest genome seq...</td>\n    </tr>\n    <tr>\n      <th>2015</th>\n      <td>What is the  relation between the new2019-nCOV...</td>\n      <td>the new 2019-nCoV orf8 is distant from the con...</td>\n    </tr>\n    <tr>\n      <th>2016</th>\n      <td>orf8 was shown to do  what?</td>\n      <td>to trigger intracellular stress pathways and a...</td>\n    </tr>\n    <tr>\n      <th>2017</th>\n      <td>What high possibility does the novel  orf8 have?</td>\n      <td>to form a protein with an alpha-helix, followi...</td>\n    </tr>\n    <tr>\n      <th>2018</th>\n      <td>What is the summary of this report?</td>\n      <td>2019-nCoV is a novel lineage B Betacoronavirus...</td>\n    </tr>\n  </tbody>\n</table>\n<p>2019 rows × 2 columns</p>\n</div>"
     },
     "metadata": {},
     "output_type": "display_data"
    }
   ],
   "source": [
    "display(covid)"
   ],
   "metadata": {
    "collapsed": false,
    "ExecuteTime": {
     "end_time": "2023-12-11T17:57:33.549328Z",
     "start_time": "2023-12-11T17:57:33.546423Z"
    }
   },
   "id": "8923aca760078d31"
  },
  {
   "cell_type": "markdown",
   "source": [
    "### Medical qa"
   ],
   "metadata": {
    "collapsed": false
   },
   "id": "9ad3776d8f88ca18"
  },
  {
   "cell_type": "code",
   "execution_count": 36,
   "outputs": [],
   "source": [
    "medical = pd.read_parquet(\"datasets/train-0.parquet\")"
   ],
   "metadata": {
    "collapsed": false,
    "ExecuteTime": {
     "end_time": "2023-12-11T17:58:29.277180Z",
     "start_time": "2023-12-11T17:58:28.979241Z"
    }
   },
   "id": "db8ad48e7bf4b31e"
  },
  {
   "cell_type": "code",
   "execution_count": 37,
   "outputs": [
    {
     "data": {
      "text/plain": "Index(['instruction', 'input', 'output', '__index_level_0__'], dtype='object')"
     },
     "execution_count": 37,
     "metadata": {},
     "output_type": "execute_result"
    }
   ],
   "source": [
    "medical.columns"
   ],
   "metadata": {
    "collapsed": false,
    "ExecuteTime": {
     "end_time": "2023-12-11T17:58:34.866888Z",
     "start_time": "2023-12-11T17:58:34.857719Z"
    }
   },
   "id": "52f9ea819a8879ba"
  },
  {
   "cell_type": "code",
   "execution_count": 39,
   "outputs": [],
   "source": [
    "medical.drop(columns=['instruction', '__index_level_0__'], inplace=True)\n",
    "medical.rename(columns={\n",
    "    'input': 'question',\n",
    "    'output': 'answer'\n",
    "}, inplace=True)"
   ],
   "metadata": {
    "collapsed": false,
    "ExecuteTime": {
     "end_time": "2023-12-11T17:59:54.787821Z",
     "start_time": "2023-12-11T17:59:54.723867Z"
    }
   },
   "id": "a8ff867974ff6ccf"
  },
  {
   "cell_type": "code",
   "execution_count": 40,
   "outputs": [
    {
     "data": {
      "text/plain": "                                                 question  \\\n0       hi. im a home health aide and i have a client ...   \n1       RATIONALE: The COVID-19 pandemic struck an imm...   \n2       Objectives: To investigate the experience of p...   \n3       Hi, Im sorry to bother you but I have fpund a ...   \n4       Hi, my penis has  a slightly lighter spot at t...   \n...                                                   ...   \n239352  Hi my three year old has a red earlobe at the ...   \n239353  What is the other name for the pituitary gland...   \n239354  hi, i am looking for advice for my 9 year old ...   \n239355  What are the main preventive measures for reti...   \n239356  I have bad cough for about 2months now . About...   \n\n                                                   answer  \n0       hi, thanks for contacting chatbot. swelling in...  \n1       Hydroxychloroquine vs. Azithromycin for Hospit...  \n2       Playing the harmonica with chronic obstructive...  \n3       welcome to chatbot .1. the history suggest a p...  \n4       hello, skin color changes, discoloration etc. ...  \n...                                                   ...  \n239352  dear sir/ madam, thank you for posting your qu...  \n239353  The pituitary gland, also known as the hypophy...  \n239354  hello, possible causes like contusion followin...  \n239355  Retinitis pigmentosa is a genetic, inherited d...  \n239356  thanks for your question on chatbot. i can und...  \n\n[239357 rows x 2 columns]",
      "text/html": "<div>\n<style scoped>\n    .dataframe tbody tr th:only-of-type {\n        vertical-align: middle;\n    }\n\n    .dataframe tbody tr th {\n        vertical-align: top;\n    }\n\n    .dataframe thead th {\n        text-align: right;\n    }\n</style>\n<table border=\"1\" class=\"dataframe\">\n  <thead>\n    <tr style=\"text-align: right;\">\n      <th></th>\n      <th>question</th>\n      <th>answer</th>\n    </tr>\n  </thead>\n  <tbody>\n    <tr>\n      <th>0</th>\n      <td>hi. im a home health aide and i have a client ...</td>\n      <td>hi, thanks for contacting chatbot. swelling in...</td>\n    </tr>\n    <tr>\n      <th>1</th>\n      <td>RATIONALE: The COVID-19 pandemic struck an imm...</td>\n      <td>Hydroxychloroquine vs. Azithromycin for Hospit...</td>\n    </tr>\n    <tr>\n      <th>2</th>\n      <td>Objectives: To investigate the experience of p...</td>\n      <td>Playing the harmonica with chronic obstructive...</td>\n    </tr>\n    <tr>\n      <th>3</th>\n      <td>Hi, Im sorry to bother you but I have fpund a ...</td>\n      <td>welcome to chatbot .1. the history suggest a p...</td>\n    </tr>\n    <tr>\n      <th>4</th>\n      <td>Hi, my penis has  a slightly lighter spot at t...</td>\n      <td>hello, skin color changes, discoloration etc. ...</td>\n    </tr>\n    <tr>\n      <th>...</th>\n      <td>...</td>\n      <td>...</td>\n    </tr>\n    <tr>\n      <th>239352</th>\n      <td>Hi my three year old has a red earlobe at the ...</td>\n      <td>dear sir/ madam, thank you for posting your qu...</td>\n    </tr>\n    <tr>\n      <th>239353</th>\n      <td>What is the other name for the pituitary gland...</td>\n      <td>The pituitary gland, also known as the hypophy...</td>\n    </tr>\n    <tr>\n      <th>239354</th>\n      <td>hi, i am looking for advice for my 9 year old ...</td>\n      <td>hello, possible causes like contusion followin...</td>\n    </tr>\n    <tr>\n      <th>239355</th>\n      <td>What are the main preventive measures for reti...</td>\n      <td>Retinitis pigmentosa is a genetic, inherited d...</td>\n    </tr>\n    <tr>\n      <th>239356</th>\n      <td>I have bad cough for about 2months now . About...</td>\n      <td>thanks for your question on chatbot. i can und...</td>\n    </tr>\n  </tbody>\n</table>\n<p>239357 rows × 2 columns</p>\n</div>"
     },
     "metadata": {},
     "output_type": "display_data"
    }
   ],
   "source": [
    "display(medical)"
   ],
   "metadata": {
    "collapsed": false,
    "ExecuteTime": {
     "end_time": "2023-12-11T18:00:00.979402Z",
     "start_time": "2023-12-11T18:00:00.975867Z"
    }
   },
   "id": "618cbc80c54c87e0"
  },
  {
   "cell_type": "markdown",
   "source": [
    "### Final QA Dataset"
   ],
   "metadata": {
    "collapsed": false
   },
   "id": "8fa84934d4dd4329"
  },
  {
   "cell_type": "code",
   "execution_count": 41,
   "outputs": [],
   "source": [
    "final_df = pd.read_json(\"datasets/final_qa_dataset.json\")"
   ],
   "metadata": {
    "collapsed": false,
    "ExecuteTime": {
     "end_time": "2023-12-11T18:00:47.021143Z",
     "start_time": "2023-12-11T18:00:46.539019Z"
    }
   },
   "id": "d9abacd5c8d43162"
  },
  {
   "cell_type": "code",
   "execution_count": 43,
   "outputs": [
    {
     "data": {
      "text/plain": "485195"
     },
     "execution_count": 43,
     "metadata": {},
     "output_type": "execute_result"
    }
   ],
   "source": [
    "len(final_df) + len(medical) + len(medical_meadow) + len(covid) + len(cpgqa)"
   ],
   "metadata": {
    "collapsed": false,
    "ExecuteTime": {
     "end_time": "2023-12-11T18:01:21.994207Z",
     "start_time": "2023-12-11T18:01:21.988689Z"
    }
   },
   "id": "f795d78bee60f35d"
  },
  {
   "cell_type": "code",
   "execution_count": 68,
   "outputs": [],
   "source": [
    "final_QA = pd.concat([final_df, medical, medical_meadow, covid, cpgqa], ignore_index=True)"
   ],
   "metadata": {
    "collapsed": false,
    "ExecuteTime": {
     "end_time": "2023-12-11T19:24:18.750741Z",
     "start_time": "2023-12-11T19:24:18.749545Z"
    }
   },
   "id": "e46f6103d0db20f3"
  },
  {
   "cell_type": "code",
   "execution_count": 69,
   "outputs": [],
   "source": [
    "final_QA.drop_duplicates(inplace=True)"
   ],
   "metadata": {
    "collapsed": false,
    "ExecuteTime": {
     "end_time": "2023-12-11T19:24:20.868159Z",
     "start_time": "2023-12-11T19:24:19.958762Z"
    }
   },
   "id": "715189e912ff9111"
  },
  {
   "cell_type": "code",
   "execution_count": 70,
   "outputs": [],
   "source": [
    "final_QA = final_QA.sample(frac=1).reset_index(drop=True)"
   ],
   "metadata": {
    "collapsed": false,
    "ExecuteTime": {
     "end_time": "2023-12-11T19:24:21.760494Z",
     "start_time": "2023-12-11T19:24:21.706167Z"
    }
   },
   "id": "921602c804f9e10f"
  },
  {
   "cell_type": "code",
   "execution_count": 71,
   "outputs": [],
   "source": [
    "final_QA.to_json('datasets/final.json')"
   ],
   "metadata": {
    "collapsed": false,
    "ExecuteTime": {
     "end_time": "2023-12-11T19:24:34.239043Z",
     "start_time": "2023-12-11T19:24:33.491266Z"
    }
   },
   "id": "631f90e5fb79d447"
  }
 ],
 "metadata": {
  "kernelspec": {
   "display_name": "Python 3",
   "language": "python",
   "name": "python3"
  },
  "language_info": {
   "codemirror_mode": {
    "name": "ipython",
    "version": 2
   },
   "file_extension": ".py",
   "mimetype": "text/x-python",
   "name": "python",
   "nbconvert_exporter": "python",
   "pygments_lexer": "ipython2",
   "version": "2.7.6"
  }
 },
 "nbformat": 4,
 "nbformat_minor": 5
}
